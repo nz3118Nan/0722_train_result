{
 "cells": [
  {
   "cell_type": "code",
   "execution_count": 8,
   "metadata": {
    "collapsed": true,
    "ExecuteTime": {
     "end_time": "2023-07-12T21:16:25.174723Z",
     "start_time": "2023-07-12T21:16:25.166237Z"
    }
   },
   "outputs": [],
   "source": [
    "import os\n",
    "\n",
    "def save_as_md_file(row, index):\n",
    "    filename = f\"row_{index}.md\"\n",
    "    with open(filename, \"w\") as file:\n",
    "        file.write(row)\n",
    "\n",
    "def process_text_file(file_path):\n",
    "    with open(file_path, \"r\") as file:\n",
    "        rows = file.readlines()\n",
    "\n",
    "    for index, row in enumerate(rows):\n",
    "        save_as_md_file(row, index)\n",
    "\n",
    "# Replace 'file_path.txt' with the path to your text file\n",
    "file_path = \"/Users/zhounan/Documents/Github_Project/Galatopia_Project/Data_Collection/individual memory/xiaogang.txt\"\n",
    "process_text_file(file_path)\n"
   ]
  },
  {
   "cell_type": "code",
   "execution_count": null,
   "outputs": [],
   "source": [],
   "metadata": {
    "collapsed": false
   }
  }
 ],
 "metadata": {
  "kernelspec": {
   "display_name": "Python 3",
   "language": "python",
   "name": "python3"
  },
  "language_info": {
   "codemirror_mode": {
    "name": "ipython",
    "version": 2
   },
   "file_extension": ".py",
   "mimetype": "text/x-python",
   "name": "python",
   "nbconvert_exporter": "python",
   "pygments_lexer": "ipython2",
   "version": "2.7.6"
  }
 },
 "nbformat": 4,
 "nbformat_minor": 0
}
